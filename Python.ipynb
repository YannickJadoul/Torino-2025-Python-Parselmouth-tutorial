{
 "cells": [
  {
   "cell_type": "markdown",
   "id": "a849cf6e-21fb-4538-bf6c-a4aa5fdd9cae",
   "metadata": {},
   "source": [
    "# A short introduction to Python"
   ]
  },
  {
   "cell_type": "markdown",
   "id": "65fce2e6-8986-4cbb-bc1a-193089447a5b",
   "metadata": {},
   "source": [
    "## Instructions, values, and variables"
   ]
  },
  {
   "cell_type": "code",
   "execution_count": null,
   "id": "9a0b98e7-5ed0-45d2-81f5-a97e93062031",
   "metadata": {},
   "outputs": [],
   "source": [
    "(1.1303089346110338 + 1.1135805268230399 + 0.8520189964936077) / 3"
   ]
  },
  {
   "cell_type": "code",
   "execution_count": null,
   "id": "616e3f1a-9e52-4fc0-adb7-731d77d28809",
   "metadata": {},
   "outputs": [],
   "source": [
    "duration1 = 1.1303089346110338\n",
    "duration2 = 1.1135805268230399\n",
    "duration3 = 0.8520189964936077\n",
    "\n",
    "duration1"
   ]
  },
  {
   "cell_type": "code",
   "execution_count": null,
   "id": "6d8194b8-378a-42b9-b1be-0cbed3e7de9a",
   "metadata": {},
   "outputs": [],
   "source": [
    "mean = (duration1 + duration2 + duration3) / 3\n",
    "\n",
    "mean"
   ]
  },
  {
   "cell_type": "code",
   "execution_count": null,
   "id": "5508e4fe-9c33-44b3-866d-dd57353c5cf2",
   "metadata": {},
   "outputs": [],
   "source": [
    "duration_sjef1 = 1.2738156315625448\n",
    "duration_sjef2 = 1.1901212929539926\n",
    "duration_sjef3 = 1.115199947509423"
   ]
  },
  {
   "cell_type": "code",
   "execution_count": null,
   "id": "98c02380-9ae7-4996-b896-f6d243d82152",
   "metadata": {},
   "outputs": [],
   "source": [
    "mean_sjef = ???\n",
    "\n",
    "mean_sjef"
   ]
  },
  {
   "cell_type": "markdown",
   "id": "b0eeaadd-5500-498c-95f1-ba739dfa3345",
   "metadata": {},
   "source": [
    "## Functions"
   ]
  },
  {
   "cell_type": "code",
   "execution_count": null,
   "id": "a7392294-3f4a-4dae-83a8-4a3705c1d95b",
   "metadata": {},
   "outputs": [],
   "source": [
    "#mean = (duration1 + duration2 + duration3) / 3\n",
    "#mean_sjef = (duration_sjef1 + duration_sjef2 + duration_sjef3) / 3"
   ]
  },
  {
   "cell_type": "code",
   "execution_count": null,
   "id": "4245d6d6-8415-4787-8451-3d681c0d799f",
   "metadata": {},
   "outputs": [],
   "source": [
    "def calculate_mean_3(value1, value2, value3):\n",
    "    return (value1 + value2 + value3) / 3\n",
    "\n",
    "mean = calculate_mean_3(duration1, duration2, duration3)\n",
    "mean\n",
    "\n",
    "\n",
    "calculate_mean_3(duration_sjef1, duration_sjef2, duration_sjef3)"
   ]
  },
  {
   "cell_type": "code",
   "execution_count": null,
   "id": "c6f863e3-566b-4944-a9d2-9253c3e55456",
   "metadata": {},
   "outputs": [],
   "source": [
    "duration4 = 1.132294567675048\n",
    "duration5 = 1.3392601049999402"
   ]
  },
  {
   "cell_type": "code",
   "execution_count": null,
   "id": "0d4691af-bd18-49b9-97cf-0fdf4c23094a",
   "metadata": {},
   "outputs": [],
   "source": [
    "new_mean = (duration1 + duration2 + duration3 + duration4 + duration5) / 5\n",
    "new_mean"
   ]
  },
  {
   "cell_type": "code",
   "execution_count": null,
   "id": "a6a99519-4811-4b2c-9f57-712eeb8b917e",
   "metadata": {},
   "outputs": [],
   "source": [
    "calculate_mean_3(duration1, duration2, duration3, duration4, duration5)"
   ]
  },
  {
   "cell_type": "code",
   "execution_count": null,
   "id": "e0e05414-92a4-4220-9071-126ae1056532",
   "metadata": {},
   "outputs": [],
   "source": [
    "def calculate_mean_5(???):\n",
    "    return ???"
   ]
  },
  {
   "cell_type": "markdown",
   "id": "79f5d249-eb62-46a3-8656-dc32b8fe71d2",
   "metadata": {},
   "source": [
    "## Lists and loops"
   ]
  },
  {
   "cell_type": "code",
   "execution_count": null,
   "id": "e714c194-4cef-47c1-9f00-9f87d3de1e47",
   "metadata": {},
   "outputs": [],
   "source": [
    "durations = [duration1, duration2, duration3, duration4, duration5]\n",
    "durations"
   ]
  },
  {
   "cell_type": "code",
   "execution_count": null,
   "id": "dcad8552-793d-4246-ac3d-027e35d4e0aa",
   "metadata": {},
   "outputs": [],
   "source": [
    "durations[3]"
   ]
  },
  {
   "cell_type": "code",
   "execution_count": null,
   "id": "1eed559e-fe22-4394-a148-0ace74c14f21",
   "metadata": {},
   "outputs": [],
   "source": [
    "#def calculate_mean_3(value1, value2, value3):\n",
    "#    return (value1 + value2 + value3) / 3\n",
    "\n",
    "#def calculate_mean_5(value1, value2, value3, value4, value5):\n",
    "#    return (value1 + value2 + value3 + value4 + value5) / 5"
   ]
  },
  {
   "cell_type": "code",
   "execution_count": null,
   "id": "3cf5e613-5136-458a-aba3-87d1000de44e",
   "metadata": {},
   "outputs": [],
   "source": [
    "def calculate_mean(values):\n",
    "    num_values = len(values)\n",
    "    total = 0\n",
    "    for i in range(num_values):\n",
    "        total = total + values[i]\n",
    "    return total / num_values"
   ]
  },
  {
   "cell_type": "code",
   "execution_count": null,
   "id": "2591bd1a-20b8-403f-baea-33972e67d65b",
   "metadata": {},
   "outputs": [],
   "source": [
    "calculate_mean(durations)"
   ]
  },
  {
   "cell_type": "code",
   "execution_count": null,
   "id": "9320632b-46e0-4037-ab81-469abdbf995a",
   "metadata": {},
   "outputs": [],
   "source": [
    "some_list = [???]\n",
    "some_mean = ???\n",
    "some_mean"
   ]
  },
  {
   "cell_type": "markdown",
   "id": "68d6bd18-ef0e-41e9-94ce-19699bcf66d1",
   "metadata": {},
   "source": [
    "## Existing functions and libraries"
   ]
  },
  {
   "cell_type": "code",
   "execution_count": null,
   "id": "c22ad775-5189-4687-b853-0ea23f868c67",
   "metadata": {},
   "outputs": [],
   "source": [
    "def calculate_mean_bis(values):\n",
    "    num_values = len(values)\n",
    "    total = sum(values)\n",
    "    return ??? / ???"
   ]
  },
  {
   "cell_type": "code",
   "execution_count": null,
   "id": "313228c6-d088-446f-b57f-449ff3e9ff14",
   "metadata": {},
   "outputs": [],
   "source": [
    "import numpy as np"
   ]
  },
  {
   "cell_type": "code",
   "execution_count": null,
   "id": "ce00deb5-c2c5-445b-9499-4bd686bb721e",
   "metadata": {},
   "outputs": [],
   "source": [
    "np.mean(some_list)"
   ]
  },
  {
   "cell_type": "code",
   "execution_count": null,
   "id": "30fbee18-1103-489b-b9f3-c721dd2cabcc",
   "metadata": {},
   "outputs": [],
   "source": [
    "import pandas as pd\n",
    "\n",
    "table = pd.read_csv(\"data/seal_pup_durations_A.csv\")\n",
    "table"
   ]
  },
  {
   "cell_type": "code",
   "execution_count": null,
   "id": "63d79dcc-b2e0-4b46-843d-5bceaecf3335",
   "metadata": {},
   "outputs": [],
   "source": [
    "duration_column = table['duration']\n",
    "durations = list(duration_column)"
   ]
  },
  {
   "cell_type": "code",
   "execution_count": null,
   "id": "de2c9ff2-023f-446b-84ca-cf0b2672799b",
   "metadata": {},
   "outputs": [],
   "source": [
    "mean_duration = ???"
   ]
  },
  {
   "cell_type": "code",
   "execution_count": null,
   "id": "c302d8cc-612d-4056-8398-9f368b437046",
   "metadata": {},
   "outputs": [],
   "source": [
    "table['seal'] == \"Ella\""
   ]
  },
  {
   "cell_type": "code",
   "execution_count": null,
   "id": "b65baca2-4e1c-4063-8570-3c0bd3773f9b",
   "metadata": {},
   "outputs": [],
   "source": [
    "seal_is_ella_column = (table['seal'] == \"Ella\")\n",
    "table[seal_is_ella_column]"
   ]
  },
  {
   "cell_type": "code",
   "execution_count": null,
   "id": "e6130f8e-d6aa-484c-82ce-fcf0224a4850",
   "metadata": {},
   "outputs": [],
   "source": [
    "ella_table = table[seal_is_ella_column]\n",
    "ella_durations = list(ella_table['duration'])\n",
    "calculate_mean(ella_durations)"
   ]
  },
  {
   "cell_type": "code",
   "execution_count": null,
   "id": "466746ac-2004-49cf-a0fb-a1d946382cdf",
   "metadata": {},
   "outputs": [],
   "source": [
    "sjef_durations = ???\n",
    "calculate_mean(sjef_durations)"
   ]
  },
  {
   "cell_type": "code",
   "execution_count": null,
   "id": "85d95156-407c-4124-8b3e-3f5683f8f088",
   "metadata": {},
   "outputs": [],
   "source": [
    "seal_names = [\"Ella\", \"Sjef\"]\n",
    "for seal_name in seal_names:\n",
    "    seal_selection_column = ???\n",
    "    seal_table = ???\n",
    "    mean_duration = ???\n",
    "    print(seal_name, mean_duration)"
   ]
  },
  {
   "cell_type": "markdown",
   "id": "132a6427-e862-4075-81b2-bed1419c1a67",
   "metadata": {},
   "source": [
    "## Dictionaries and string concatenation"
   ]
  },
  {
   "cell_type": "code",
   "execution_count": null,
   "id": "b0863ecb-5302-4967-8930-dfbb2732c82b",
   "metadata": {},
   "outputs": [],
   "source": [
    "seals_in_tables = {\n",
    "    \"A\": [\"Ella\", \"Sjef\"],\n",
    "    \"B\": [\"Bigos\"],\n",
    "    \"C\": [\"Chaplin\", \"Mojito\"],\n",
    "}\n",
    "\n",
    "seals_in_C = seals_in_tables[\"C\"]\n",
    "seals_in_C"
   ]
  },
  {
   "cell_type": "code",
   "execution_count": null,
   "id": "c75f6e8e-7365-4838-94d7-49182b451e71",
   "metadata": {},
   "outputs": [],
   "source": [
    "seal_1_in_C = seals_in_C[0]\n",
    "seal_1_in_C"
   ]
  },
  {
   "cell_type": "code",
   "execution_count": null,
   "id": "80f0c57b-158c-49c7-94bc-cc494835625c",
   "metadata": {},
   "outputs": [],
   "source": [
    "seal_2_in_A = ???"
   ]
  },
  {
   "cell_type": "code",
   "execution_count": null,
   "id": "3a9fc0f2-c393-4203-93f7-646d0066f9d6",
   "metadata": {},
   "outputs": [],
   "source": [
    "\"data/seal_pup_durations_\" + \"B\" + \".csv\""
   ]
  },
  {
   "cell_type": "code",
   "execution_count": null,
   "id": "21a78aef-241f-4fe3-ad3c-6bfce311089f",
   "metadata": {},
   "outputs": [],
   "source": [
    "\"abc\" + str(456) + \"ghi\""
   ]
  },
  {
   "cell_type": "markdown",
   "id": "253cc1a1-f7d6-4936-b65e-71da87ef12fb",
   "metadata": {},
   "source": [
    "## Everything combined"
   ]
  },
  {
   "cell_type": "code",
   "execution_count": null,
   "id": "4a37da90-fae6-4821-ad2c-7e0c62ee984e",
   "metadata": {},
   "outputs": [],
   "source": [
    "def get_mean_duration_per_condition(table, seal_name):\n",
    "    means = []\n",
    "    for condition in ['before', 'after']:\n",
    "        seal_selection_column = ???\n",
    "        condition_selection_column = ???\n",
    "        seal_table = table[condition_selection_column & condition_selection_column]\n",
    "        condition_mean = ???\n",
    "        means.append(condition_mean)\n",
    "    return means"
   ]
  },
  {
   "cell_type": "code",
   "execution_count": null,
   "id": "59f4721a-71c4-4b3b-9d9b-f50ffb5befad",
   "metadata": {},
   "outputs": [],
   "source": [
    "get_mean_duration_per_condition(table, \"Ella\")"
   ]
  },
  {
   "cell_type": "code",
   "execution_count": null,
   "id": "280c83bd-4dd3-4a90-a33f-202f1b61c765",
   "metadata": {},
   "outputs": [],
   "source": [
    "mean_before_and_after_ella = get_mean_duration_per_condition(table, \"Ella\")\n",
    "mean_after_ella = ???"
   ]
  },
  {
   "cell_type": "code",
   "execution_count": null,
   "id": "31552fc2-470b-4c94-87d6-453930830f36",
   "metadata": {},
   "outputs": [],
   "source": [
    "for table_name in [\"A\", \"B\", \"C\"]:\n",
    "    table_filename = ???\n",
    "    table = pd.read_csv(table_filename)\n",
    "\n",
    "    for seal_name in ???:\n",
    "        mean_before_and_after = ???\n",
    "        print(seal_name)\n",
    "        print(\"Before: \" + str(???))\n",
    "        print(\"After: \" + ???)\n",
    "        print()"
   ]
  }
 ],
 "metadata": {
  "kernelspec": {
   "display_name": "Python 3 (ipykernel)",
   "language": "python",
   "name": "python3"
  },
  "language_info": {
   "codemirror_mode": {
    "name": "ipython",
    "version": 3
   },
   "file_extension": ".py",
   "mimetype": "text/x-python",
   "name": "python",
   "nbconvert_exporter": "python",
   "pygments_lexer": "ipython3",
   "version": "3.10.12"
  }
 },
 "nbformat": 4,
 "nbformat_minor": 5
}
